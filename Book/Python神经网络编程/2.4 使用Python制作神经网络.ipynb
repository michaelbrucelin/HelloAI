{
 "cells": [
  {
   "cell_type": "markdown",
   "id": "11596c0a-6f57-49b9-896c-401b516efa29",
   "metadata": {},
   "source": [
    "# 2.4 使用Python制作神经网络\n",
    "\n",
    "神经网络类的大概样子：\n",
    "\n",
    "- 初始化函数——设定输入层节点、隐藏层节点和输出层节点的数量。\n",
    "- 训练——学习给定训练集样本后，优化权重。\n",
    "- 查询——给定输入，从输出节点给出答案。\n",
    "\n",
    "训练神经网络的两个阶段：\n",
    "\n",
    "1. 根据输入计算输出\n",
    "2. 反向传播误差，告知如何优化链接权重"
   ]
  },
  {
   "cell_type": "code",
   "execution_count": 1,
   "id": "e5fea4c9-e3a6-4408-b6c2-7de47b62e7be",
   "metadata": {},
   "outputs": [],
   "source": [
    "import numpy as np\n",
    "import scipy.special"
   ]
  },
  {
   "cell_type": "code",
   "execution_count": 2,
   "id": "a0326bfb-72ee-4765-b8cc-0cfb9b4c1df3",
   "metadata": {},
   "outputs": [],
   "source": [
    "# 神经网络类的定义\n",
    "class neuralNetwork:\n",
    "    # 初始化神经网络\n",
    "    def __init__(self, inputnodes, hiddennodes, outputnodes, learningrate):\n",
    "        self.inodes = inputnodes                                                              # 输入层节点\n",
    "        self.hnodes = hiddennodes                                                             # 隐藏层节点\n",
    "        self.onodes = outputnodes                                                             # 输出层节点\n",
    "\n",
    "        # self.wih = np.random.rand(self.hnodes, self.inodes) - 0.5                           # 输入层到隐藏层之间的链接权重矩阵\n",
    "        self.wih = np.random.normal(0.0, pow(self.hnodes, -0.5), (self.hnodes, self.inodes))  # 使用正态分布采样初始化权重\n",
    "        # self.who = np.random.rand(self.onodes, self.hnodes) - 0.5                           # 隐藏层到输出层之间的链接权重矩阵\n",
    "        self.who = np.random.normal(0.0, pow(self.onodes, -0.5), (self.onodes, self.hnodes))  # 使用正态分布采样初始化权重\n",
    "        self.lr = learningrate                                                                # 学习率\n",
    "\n",
    "        self.activation_function = lambda x: scipy.special.expit(x)                           # 激活函数\n",
    "\n",
    "        pass\n",
    "    \n",
    "    # 训练神经网络\n",
    "    def train(self, inputs_list, targets_list):\n",
    "        inputs = np.array(inputs_list, ndmin=2).T                 # 将输入列表转为2维数组\n",
    "        targets = np.array(targets_list, ndmin=2).T\n",
    "\n",
    "        hidden_inputs = np.dot(self.wih, inputs)                  # 计算进入隐藏层的信号\n",
    "        hidden_outputs = self.activation_function(hidden_inputs)  # 计算隐藏层发出的信号\n",
    "        final_inputs = np.dot(self.who, hidden_outputs)           # 计算进入输出层的信号\n",
    "        final_outputs = self.activation_function(final_inputs)    # 计算输出层发出的信号\n",
    "\n",
    "        output_errors = targets - final_outputs                   # 计算误差\n",
    "        hidden_errors = np.dot(self.who.T, output_errors)         # 计算隐藏层误差，根据权重重组误差\n",
    "\n",
    "        # 优化隐藏层到输出层之间的权重\n",
    "        self.who += self.lr * np.dot((output_errors * final_outputs * (1.0 - final_outputs)), np.transpose(hidden_outputs))\n",
    "        # 优化输入层到隐藏层之间的权重\n",
    "        self.wih += self.lr * np.dot((hidden_errors * hidden_outputs * (1.0 - hidden_outputs)), np.transpose(inputs))\n",
    "\n",
    "        pass\n",
    "\n",
    "    # 查询神经网络\n",
    "    def query(self, inputs_list):\n",
    "        inputs = np.array(inputs_list, ndmin=2).T                 # 将输入列表转为2维数组\n",
    "\n",
    "        hidden_inputs = np.dot(self.wih, inputs)                  # 计算进入隐藏层的信号\n",
    "        hidden_outputs = self.activation_function(hidden_inputs)  # 计算隐藏层发出的信号\n",
    "        final_inputs = np.dot(self.who, hidden_outputs)           # 计算进入输出层的信号\n",
    "        final_outputs = self.activation_function(final_inputs)    # 计算输出层发出的信号\n",
    "\n",
    "        return final_outputs"
   ]
  },
  {
   "cell_type": "code",
   "execution_count": 3,
   "id": "33628275-9da9-4d64-acbd-84b7988250fc",
   "metadata": {},
   "outputs": [],
   "source": [
    "# 创建一个小型的神经网络\n",
    "input_nodes = 3\n",
    "hidden_nodes = 3\n",
    "output_nodes = 3\n",
    "learning_rate = 0.3\n",
    "n = neuralNetwork(input_nodes,hidden_nodes,output_nodes, learning_rate)"
   ]
  },
  {
   "cell_type": "code",
   "execution_count": 4,
   "id": "f71daa3b-ecba-4c62-8d7b-84679da20a3b",
   "metadata": {},
   "outputs": [
    {
     "data": {
      "text/plain": [
       "array([[0.53631072],\n",
       "       [0.37303087],\n",
       "       [0.52256803]])"
      ]
     },
     "execution_count": 4,
     "metadata": {},
     "output_type": "execute_result"
    }
   ],
   "source": [
    "# 测试神经网络\n",
    "n.query([1.0, 0.5, -1.5])"
   ]
  },
  {
   "cell_type": "code",
   "execution_count": null,
   "id": "99b477be-7fc9-4526-b467-ca0d42547cd9",
   "metadata": {},
   "outputs": [],
   "source": []
  }
 ],
 "metadata": {
  "kernelspec": {
   "display_name": "Python 3 (ipykernel)",
   "language": "python",
   "name": "python3"
  },
  "language_info": {
   "codemirror_mode": {
    "name": "ipython",
    "version": 3
   },
   "file_extension": ".py",
   "mimetype": "text/x-python",
   "name": "python",
   "nbconvert_exporter": "python",
   "pygments_lexer": "ipython3",
   "version": "3.11.2"
  }
 },
 "nbformat": 4,
 "nbformat_minor": 5
}
