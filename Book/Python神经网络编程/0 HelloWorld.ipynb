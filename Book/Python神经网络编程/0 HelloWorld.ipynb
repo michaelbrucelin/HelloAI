{
 "cells": [
  {
   "cell_type": "code",
   "execution_count": 1,
   "id": "4a238205-ec33-496e-a463-6258e6f4ca61",
   "metadata": {},
   "outputs": [
    {
     "name": "stdout",
     "output_type": "stream",
     "text": [
      "Hello World!\n"
     ]
    }
   ],
   "source": [
    "print(\"Hello World!\")"
   ]
  },
  {
   "cell_type": "code",
   "execution_count": 2,
   "id": "c9c2120d-875e-4ff9-92d6-0ddf0513f8c4",
   "metadata": {},
   "outputs": [
    {
     "data": {
      "text/plain": [
       "[0, 1, 2, 3, 4, 5, 6, 7, 8, 9]"
      ]
     },
     "execution_count": 2,
     "metadata": {},
     "output_type": "execute_result"
    }
   ],
   "source": [
    "list(range(10))"
   ]
  },
  {
   "cell_type": "code",
   "execution_count": 3,
   "id": "a95ea815-4a4e-4bc4-9974-ea68ca920af0",
   "metadata": {},
   "outputs": [
    {
     "name": "stdout",
     "output_type": "stream",
     "text": [
      "[[0. 0.]\n",
      " [0. 0.]\n",
      " [0. 0.]]\n"
     ]
    }
   ],
   "source": [
    "import numpy as np\n",
    "\n",
    "nums = np.zeros([3, 2])\n",
    "print(nums)"
   ]
  },
  {
   "cell_type": "code",
   "execution_count": 4,
   "id": "f23e1767-6cf0-4c5b-9b44-d2d6658dca98",
   "metadata": {},
   "outputs": [
    {
     "name": "stdout",
     "output_type": "stream",
     "text": [
      "[[ 1.  2.]\n",
      " [ 9.  0.]\n",
      " [ 0. 12.]]\n"
     ]
    }
   ],
   "source": [
    "nums[0, 0] = 1\n",
    "nums[0, 1] = 2\n",
    "nums[1, 0] = 9\n",
    "nums[2, 1] = 12\n",
    "print(nums)"
   ]
  },
  {
   "cell_type": "code",
   "execution_count": 5,
   "id": "8f31fcda-348d-4a30-b664-58007878c576",
   "metadata": {},
   "outputs": [
    {
     "data": {
      "text/plain": [
       "<matplotlib.image.AxesImage at 0x7fc050aeb810>"
      ]
     },
     "execution_count": 5,
     "metadata": {},
     "output_type": "execute_result"
    },
    {
     "data": {
      "image/png": "[encoded data removed]",
      "text/plain": [
       "<Figure size 640x480 with 1 Axes>"
      ]
     },
     "metadata": {},
     "output_type": "display_data"
    }
   ],
   "source": [
    "import matplotlib.pyplot as plt\n",
    "%matplotlib inline\n",
    "\n",
    "plt.imshow(nums, interpolation = \"nearest\")"
   ]
  },
  {
   "cell_type": "code",
   "execution_count": null,
   "id": "87a5b8bb-4ef7-4565-b71e-a9c5aea8f8ba",
   "metadata": {},
   "outputs": [],
   "source": []
  }
 ],
 "metadata": {
  "kernelspec": {
   "display_name": "Python 3 (ipykernel)",
   "language": "python",
   "name": "python3"
  },
  "language_info": {
   "codemirror_mode": {
    "name": "ipython",
    "version": 3
   },
   "file_extension": ".py",
   "mimetype": "text/x-python",
   "name": "python",
   "nbconvert_exporter": "python",
   "pygments_lexer": "ipython3",
   "version": "3.11.2"
  }
 },
 "nbformat": 4,
 "nbformat_minor": 5
}
