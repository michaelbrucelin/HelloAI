{
 "cells": [
  {
   "cell_type": "markdown",
   "id": "83f1ac3b-e49e-4024-9aa3-801a5064061f",
   "metadata": {},
   "source": [
    "# 1. 使用神经网络识别手写数字"
   ]
  },
  {
   "cell_type": "markdown",
   "id": "d1c56de6-7648-4945-8c5d-3c8ae636fe2c",
   "metadata": {},
   "source": [
    "`p16`"
   ]
  },
  {
   "cell_type": "code",
   "execution_count": null,
   "id": "a83f4ad4-66ac-496a-a0a4-e76b97b22c54",
   "metadata": {},
   "outputs": [],
   "source": []
  }
 ],
 "metadata": {
  "kernelspec": {
   "display_name": "Python 3 (ipykernel)",
   "language": "python",
   "name": "python3"
  },
  "language_info": {
   "codemirror_mode": {
    "name": "ipython",
    "version": 3
   },
   "file_extension": ".py",
   "mimetype": "text/x-python",
   "name": "python",
   "nbconvert_exporter": "python",
   "pygments_lexer": "ipython3",
   "version": "3.11.2"
  }
 },
 "nbformat": 4,
 "nbformat_minor": 5
}
