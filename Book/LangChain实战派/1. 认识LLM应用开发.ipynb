{
 "cells": [
  {
   "cell_type": "markdown",
   "id": "10305462-bf42-4037-a4a5-cd9414e936b2",
   "metadata": {},
   "source": [
    "# 1. 认识LLM应用开发"
   ]
  },
  {
   "cell_type": "code",
   "execution_count": null,
   "id": "dfaeac90-6bc8-4b31-85c1-00847e4f2df5",
   "metadata": {},
   "outputs": [],
   "source": []
  }
 ],
 "metadata": {
  "kernelspec": {
   "display_name": "Python 3 (ipykernel)",
   "language": "python",
   "name": "python3"
  },
  "language_info": {
   "codemirror_mode": {
    "name": "ipython",
    "version": 3
   },
   "file_extension": ".py",
   "mimetype": "text/x-python",
   "name": "python",
   "nbconvert_exporter": "python",
   "pygments_lexer": "ipython3",
   "version": "3.11.2"
  }
 },
 "nbformat": 4,
 "nbformat_minor": 5
}
