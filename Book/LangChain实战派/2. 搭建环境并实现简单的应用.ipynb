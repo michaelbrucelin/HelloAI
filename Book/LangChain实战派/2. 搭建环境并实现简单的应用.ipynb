{
 "cells": [
  {
   "cell_type": "markdown",
   "id": "aaa64eb6-6355-49e5-ab2a-d3ebc0dc1f67",
   "metadata": {},
   "source": [
    "# 2. 搭建环境并实现简单的应用"
   ]
  },
  {
   "cell_type": "markdown",
   "id": "53485355-d82a-4451-be4a-429d77de0a8d",
   "metadata": {},
   "source": [
    "## 2.1 搭建环境"
   ]
  },
  {
   "cell_type": "code",
   "execution_count": 1,
   "id": "8ecc35a0-7054-433f-85eb-5446ba0c3608",
   "metadata": {},
   "outputs": [],
   "source": [
    "# curl -fsSL https://ollama.com/install.sh | sh\n",
    "# ollama pull qwen:1.8b\n",
    "# venv/bin/pip3 install --upgrade langchain-core langchain-community langchain-openai\n",
    "\n",
    "import langchain"
   ]
  },
  {
   "cell_type": "code",
   "execution_count": 2,
   "id": "17ac184d-69ee-4af7-9a82-4c9383e08858",
   "metadata": {},
   "outputs": [
    {
     "data": {
      "text/plain": [
       "'0.3.18'"
      ]
     },
     "execution_count": 2,
     "metadata": {},
     "output_type": "execute_result"
    }
   ],
   "source": [
    "langchain.__version__"
   ]
  },
  {
   "cell_type": "markdown",
   "id": "b9ac0cc6-e4d5-4716-9a87-c41681430953",
   "metadata": {},
   "source": [
    "## 2.2 实现问答应用——基于基础模型"
   ]
  },
  {
   "cell_type": "code",
   "execution_count": 3,
   "id": "6538ee05-4920-4f0f-927e-8c58cb16a987",
   "metadata": {},
   "outputs": [
    {
     "name": "stderr",
     "output_type": "stream",
     "text": [
      "/tmp/ipykernel_26242/2483069236.py:3: LangChainDeprecationWarning: The class `Ollama` was deprecated in LangChain 0.3.1 and will be removed in 1.0.0. An updated version of the class exists in the :class:`~langchain-ollama package and should be used instead. To use it run `pip install -U :class:`~langchain-ollama` and import as `from :class:`~langchain_ollama import OllamaLLM``.\n",
      "  llm = Ollama(model=\"qwen:1.8b\")\n",
      "/tmp/ipykernel_26242/2483069236.py:4: LangChainDeprecationWarning: The method `BaseLLM.predict` was deprecated in langchain-core 0.1.7 and will be removed in 1.0. Use :meth:`~invoke` instead.\n",
      "  print(llm.predict(\"AI会对人类文明产生深远的影响吗？\"))\n"
     ]
    },
    {
     "name": "stdout",
     "output_type": "stream",
     "text": [
      "是的，人工智能（AI）已经开始对人类文明产生深远的影响。以下是一些主要方面的例子：\n",
      "\n",
      "1. 工作自动化：许多企业正在采用人工智能技术来自动化重复、繁琐或危险的工作任务。例如，在制造业中，机器人可以完成高精度的生产任务；在客服领域，智能聊天机器人可以24小时不间断地提供在线咨询服务。\n",
      "\n",
      "2. 自然语言处理（NLP）：NLP是一种基于统计学和机器学习的方法，用于理解和生成自然语言文本，如电子邮件、社交媒体帖子、新闻报道等。例如，在金融行业，NLP技术可以帮助金融机构分析客户的历史交易记录、社交媒体活动、新闻报道等内容，从而为客户提供个性化的金融服务。\n",
      "\n",
      "3. 人工智能医疗诊断：AI在医疗领域的应用已经取得了显著的进步，特别是在医学影像识别和疾病预测方面发挥了重要作用。例如，在医疗影像领域，AI可以通过深度学习等算法对大量医疗图像进行自动分析和分类，从而帮助医生更准确地判断和治疗疾病；在疾病预测方面，AI可以通过机器学习等技术从大量的健康数据中提取出潜在的疾病风险因素，并通过预测模型对这些风险因素进行预测和预警，从而为预防疾病的策略提供科学依据。\n",
      "\n",
      "综上所述，人工智能（AI）已经开始对人类文明产生深远的影响。随着人工智能技术的发展和应用的不断扩大，未来的人类文明将更加智能化、便捷化，为人类创造更加美好的生活。\n"
     ]
    }
   ],
   "source": [
    "from langchain_community.llms import Ollama\n",
    "\n",
    "llm = Ollama(model=\"qwen:1.8b\")\n",
    "print(llm.predict(\"AI会对人类文明产生深远的影响吗？\"))"
   ]
  },
  {
   "cell_type": "markdown",
   "id": "21efd998-9394-4ef5-947e-0bfe549160cb",
   "metadata": {},
   "source": [
    "## 2.3 实现翻译应用——基于聊天模型和指令模板"
   ]
  },
  {
   "cell_type": "code",
   "execution_count": 4,
   "id": "0b458407-a240-4d18-8761-241797f57bb9",
   "metadata": {},
   "outputs": [
    {
     "name": "stderr",
     "output_type": "stream",
     "text": [
      "/tmp/ipykernel_26242/3516977631.py:9: LangChainDeprecationWarning: The class `ChatOllama` was deprecated in LangChain 0.3.1 and will be removed in 1.0.0. An updated version of the class exists in the :class:`~langchain-ollama package and should be used instead. To use it run `pip install -U :class:`~langchain-ollama` and import as `from :class:`~langchain_ollama import ChatOllama``.\n",
      "  chat = ChatOllama(model=\"qwen:1.8b\")\n"
     ]
    },
    {
     "name": "stdout",
     "output_type": "stream",
     "text": [
      "content='人工智能（AI）将在未来几年对人类文明产生深远影响。' additional_kwargs={} response_metadata={'model': 'qwen:1.8b', 'created_at': '2025-02-17T03:43:09.24743409Z', 'message': {'role': 'assistant', 'content': ''}, 'done_reason': 'stop', 'done': True, 'total_duration': 4081473876, 'load_duration': 24843276, 'prompt_eval_count': 49, 'prompt_eval_duration': 575000000, 'eval_count': 15, 'eval_duration': 3477000000} id='run-a656c02b-4888-434a-8aa4-9603bc8197c2-0'\n"
     ]
    }
   ],
   "source": [
    "from langchain_community.chat_models import ChatOllama\n",
    "from langchain.prompts.chat import (\n",
    "    ChatPromptTemplate,\n",
    "    SystemMessagePromptTemplate,\n",
    "    HumanMessagePromptTemplate,\n",
    ")\n",
    "\n",
    "# 创建一个ChatOllama对象\n",
    "chat = ChatOllama(model=\"qwen:1.8b\")\n",
    "# 配置聊天模板信息\n",
    "template = \"你是一个翻译助理，请将用户输入的内容由{input_language}直接翻译为{output_language}.\"  # 设置翻译任务的基本指令\n",
    "system_message_prompt = SystemMessagePromptTemplate.from_template(template)                     # 基于template创建系统消息指令，向聊天模型明确翻译任务要求\n",
    "human_template = \"{text}\"                                                                       # 简单定义人类校址指令模板，仅包含待翻译文本\n",
    "human_massage_prompt = HumanMessagePromptTemplate.from_template(human_template)                 # 定义人类消息指令\n",
    "chat_prompt = ChatPromptTemplate.from_messages([system_message_prompt, human_massage_prompt])   # 将系统消息指令和人类消息指令组合为完整的聊天指令，用于与聊天模型交互\n",
    "\n",
    "# 输入信息并获取翻译结果\n",
    "print(chat.invoke(chat_prompt.format_prompt(input_language=\"英语\",\n",
    "                                            output_language=\"中文\",\n",
    "                                            text=\"Artificial Intelligence (AI) will have a profound impact on human civilization in the coming years.\").to_messages()))"
   ]
  },
  {
   "cell_type": "code",
   "execution_count": null,
   "id": "1e32ac6c-b2f7-4961-a936-9edced440fee",
   "metadata": {},
   "outputs": [],
   "source": []
  }
 ],
 "metadata": {
  "kernelspec": {
   "display_name": "Python 3 (ipykernel)",
   "language": "python",
   "name": "python3"
  },
  "language_info": {
   "codemirror_mode": {
    "name": "ipython",
    "version": 3
   },
   "file_extension": ".py",
   "mimetype": "text/x-python",
   "name": "python",
   "nbconvert_exporter": "python",
   "pygments_lexer": "ipython3",
   "version": "3.11.2"
  }
 },
 "nbformat": 4,
 "nbformat_minor": 5
}
