{
 "cells": [
  {
   "cell_type": "markdown",
   "id": "e894ce36-f0ce-46ad-9566-1987a2c82534",
   "metadata": {},
   "source": [
    "# 3. LangChain基础"
   ]
  },
  {
   "cell_type": "markdown",
   "id": "b7d4cf15-7f64-42dd-80b3-88c9842fd55e",
   "metadata": {},
   "source": [
    "## 3.4. LangChain的回调"
   ]
  },
  {
   "cell_type": "code",
   "execution_count": null,
   "id": "8772fbfc-bd3a-443b-b26d-d80be12a77ad",
   "metadata": {},
   "outputs": [],
   "source": []
  }
 ],
 "metadata": {
  "kernelspec": {
   "display_name": "Python 3 (ipykernel)",
   "language": "python",
   "name": "python3"
  },
  "language_info": {
   "codemirror_mode": {
    "name": "ipython",
    "version": 3
   },
   "file_extension": ".py",
   "mimetype": "text/x-python",
   "name": "python",
   "nbconvert_exporter": "python",
   "pygments_lexer": "ipython3",
   "version": "3.11.2"
  }
 },
 "nbformat": 4,
 "nbformat_minor": 5
}
