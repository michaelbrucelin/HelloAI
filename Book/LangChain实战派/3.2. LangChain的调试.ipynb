{
 "cells": [
  {
   "cell_type": "markdown",
   "id": "205b6ef7-ff7f-48e6-adf5-9af77dc2f5dd",
   "metadata": {},
   "source": [
    "# 3. LangChain基础"
   ]
  },
  {
   "cell_type": "markdown",
   "id": "ba217b73-f974-4b8d-b889-5989ec96aed3",
   "metadata": {},
   "source": [
    "## 3.2. LangChain的调试"
   ]
  },
  {
   "cell_type": "markdown",
   "id": "671e443f-67fe-4127-9bf1-7db749134724",
   "metadata": {},
   "source": [
    "### 3.2.2. 调试LLM应用"
   ]
  },
  {
   "cell_type": "markdown",
   "id": "7fbe2c13-a2f9-4cde-b7c9-57cf8ef4796c",
   "metadata": {},
   "source": [
    "#### 1. 不启用调试功能"
   ]
  },
  {
   "cell_type": "code",
   "execution_count": 1,
   "id": "3dddcce8-4931-4cb7-9b94-b0d7fb4d183c",
   "metadata": {},
   "outputs": [
    {
     "name": "stderr",
     "output_type": "stream",
     "text": [
      "/tmp/ipykernel_90046/2987043296.py:3: LangChainDeprecationWarning: The class `Ollama` was deprecated in LangChain 0.3.1 and will be removed in 1.0.0. An updated version of the class exists in the :class:`~langchain-ollama package and should be used instead. To use it run `pip install -U :class:`~langchain-ollama` and import as `from :class:`~langchain_ollama import OllamaLLM``.\n",
      "  llm = Ollama(model=\"qwen:1.8b\")\n"
     ]
    },
    {
     "data": {
      "text/plain": [
       "'我是来自阿里云的大规模语言模型，我叫通义千问。我可以回答各种各样的问题，包括但不限于科学、技术、文化、社会等方面的问题。同时，我也能够表达观点和撰写文章。如果您有任何问题或需要帮助，请随时告诉我，我会尽力提供支持和解答。'"
      ]
     },
     "execution_count": 1,
     "metadata": {},
     "output_type": "execute_result"
    }
   ],
   "source": [
    "from langchain_community.llms import Ollama\n",
    "\n",
    "llm = Ollama(model=\"qwen:1.8b\")\n",
    "\n",
    "llm.invoke(\"你是谁？\")"
   ]
  },
  {
   "cell_type": "markdown",
   "id": "e77573b8-d852-4d5d-878e-6bdcc17e12f8",
   "metadata": {},
   "source": [
    "#### 2. 使用debug参数调试"
   ]
  },
  {
   "cell_type": "code",
   "execution_count": 2,
   "id": "f9b18313-04ad-44ef-8451-3405dd858fe8",
   "metadata": {},
   "outputs": [
    {
     "name": "stdout",
     "output_type": "stream",
     "text": [
      "\u001b[32;1m\u001b[1;3m[llm/start]\u001b[0m \u001b[1m[llm:Ollama] Entering LLM run with input:\n",
      "\u001b[0m{\n",
      "  \"prompts\": [\n",
      "    \"你是谁？\"\n",
      "  ]\n",
      "}\n",
      "\u001b[36;1m\u001b[1;3m[llm/end]\u001b[0m \u001b[1m[llm:Ollama] [18.61s] Exiting LLM run with output:\n",
      "\u001b[0m{\n",
      "  \"generations\": [\n",
      "    [\n",
      "      {\n",
      "        \"text\": \"我是来自阿里云的大规模语言模型，我叫通义千问。通义千问能够理解和生成多种自然语言，包括中文、英文和日文等。通义千问的训练数据来自于阿里云的天池数据库，该数据库包含了大量的文本和语音数据，是通义千问进行大规模语言模型训练的基础数据源。\",\n",
      "        \"generation_info\": {\n",
      "          \"model\": \"qwen:1.8b\",\n",
      "          \"created_at\": \"2025-02-20T09:11:58.05105493Z\",\n",
      "          \"response\": \"\",\n",
      "          \"done\": true,\n",
      "          \"done_reason\": \"stop\",\n",
      "          \"context\": [\n",
      "            151644,\n",
      "            872,\n",
      "            198,\n",
      "            105043,\n",
      "            100165,\n",
      "            11319,\n",
      "            151645,\n",
      "            198,\n",
      "            151644,\n",
      "            77091,\n",
      "            198,\n",
      "            104198,\n",
      "            101919,\n",
      "            102661,\n",
      "            99718,\n",
      "            104197,\n",
      "            100176,\n",
      "            102064,\n",
      "            104949,\n",
      "            3837,\n",
      "            35946,\n",
      "            99882,\n",
      "            31935,\n",
      "            64559,\n",
      "            99320,\n",
      "            56007,\n",
      "            1773,\n",
      "            31935,\n",
      "            64559,\n",
      "            99320,\n",
      "            56007,\n",
      "            100006,\n",
      "            115167,\n",
      "            43959,\n",
      "            101312,\n",
      "            99795,\n",
      "            102064,\n",
      "            3837,\n",
      "            100630,\n",
      "            104811,\n",
      "            5373,\n",
      "            105205,\n",
      "            33108,\n",
      "            8903,\n",
      "            16744,\n",
      "            49567,\n",
      "            1773,\n",
      "            31935,\n",
      "            64559,\n",
      "            99320,\n",
      "            56007,\n",
      "            9370,\n",
      "            104034,\n",
      "            20074,\n",
      "            107936,\n",
      "            102661,\n",
      "            99718,\n",
      "            9370,\n",
      "            35727,\n",
      "            100230,\n",
      "            74393,\n",
      "            3837,\n",
      "            75882,\n",
      "            74393,\n",
      "            102298,\n",
      "            113554,\n",
      "            108704,\n",
      "            33108,\n",
      "            105761,\n",
      "            20074,\n",
      "            3837,\n",
      "            20412,\n",
      "            31935,\n",
      "            64559,\n",
      "            99320,\n",
      "            56007,\n",
      "            71817,\n",
      "            105483,\n",
      "            102064,\n",
      "            104949,\n",
      "            104034,\n",
      "            105549,\n",
      "            20074,\n",
      "            37984,\n",
      "            1773\n",
      "          ],\n",
      "          \"total_duration\": 18604185287,\n",
      "          \"load_duration\": 25448104,\n",
      "          \"prompt_eval_count\": 11,\n",
      "          \"prompt_eval_duration\": 229000000,\n",
      "          \"eval_count\": 75,\n",
      "          \"eval_duration\": 18348000000\n",
      "        },\n",
      "        \"type\": \"Generation\"\n",
      "      }\n",
      "    ]\n",
      "  ],\n",
      "  \"llm_output\": null,\n",
      "  \"run\": null,\n",
      "  \"type\": \"LLMResult\"\n",
      "}\n"
     ]
    },
    {
     "data": {
      "text/plain": [
       "'我是来自阿里云的大规模语言模型，我叫通义千问。通义千问能够理解和生成多种自然语言，包括中文、英文和日文等。通义千问的训练数据来自于阿里云的天池数据库，该数据库包含了大量的文本和语音数据，是通义千问进行大规模语言模型训练的基础数据源。'"
      ]
     },
     "execution_count": 2,
     "metadata": {},
     "output_type": "execute_result"
    }
   ],
   "source": [
    "from langchain_community.llms import Ollama\n",
    "import langchain\n",
    "from langchain.globals import set_debug\n",
    "\n",
    "llm = Ollama(model=\"qwen:1.8b\")\n",
    "langchain.debug = True  # 或 set_debug(True)\n",
    "\n",
    "llm.invoke(\"你是谁？\")"
   ]
  },
  {
   "cell_type": "code",
   "execution_count": 3,
   "id": "cc927dcf-bf10-43d3-80a9-e5b42083790a",
   "metadata": {},
   "outputs": [],
   "source": [
    "langchain.debug = False"
   ]
  },
  {
   "cell_type": "markdown",
   "id": "2255b16c-58bc-4f7b-b615-41eca84b1d5d",
   "metadata": {},
   "source": [
    "#### 3. 使用verbose参数调试"
   ]
  },
  {
   "cell_type": "code",
   "execution_count": 4,
   "id": "fbfa0717-8118-4c8a-b226-60d9e4de147a",
   "metadata": {},
   "outputs": [
    {
     "data": {
      "text/plain": [
       "'我是来自阿里云的大规模语言模型，我叫通义千问。我可以回答各种问题，包括但不限于科技、生活、文化、历史、地理等各个领域的知识。此外，我还能够根据用户的问题和意图进行相应的生成或回复，以帮助用户解决实际问题或者提供有趣的信息和娱乐体验。'"
      ]
     },
     "execution_count": 4,
     "metadata": {},
     "output_type": "execute_result"
    }
   ],
   "source": [
    "from langchain_community.llms import Ollama\n",
    "import langchain\n",
    "from langchain.globals import set_verbose\n",
    "\n",
    "llm = Ollama(model=\"qwen:1.8b\")\n",
    "langchain.verbose = True  # 或 set_verbose(True)\n",
    "\n",
    "llm.invoke(\"你是谁？\")"
   ]
  },
  {
   "cell_type": "code",
   "execution_count": 5,
   "id": "d8ab8897-30d6-4386-b290-2ee8db8dacc6",
   "metadata": {},
   "outputs": [],
   "source": [
    "langchain.verbose = False"
   ]
  },
  {
   "cell_type": "code",
   "execution_count": null,
   "id": "433f498f-c6f4-4bb0-9e01-d3695543c803",
   "metadata": {},
   "outputs": [],
   "source": []
  }
 ],
 "metadata": {
  "kernelspec": {
   "display_name": "Python 3 (ipykernel)",
   "language": "python",
   "name": "python3"
  },
  "language_info": {
   "codemirror_mode": {
    "name": "ipython",
    "version": 3
   },
   "file_extension": ".py",
   "mimetype": "text/x-python",
   "name": "python",
   "nbconvert_exporter": "python",
   "pygments_lexer": "ipython3",
   "version": "3.11.2"
  }
 },
 "nbformat": 4,
 "nbformat_minor": 5
}
