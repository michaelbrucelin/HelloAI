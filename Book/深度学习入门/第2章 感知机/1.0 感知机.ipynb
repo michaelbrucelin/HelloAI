{
 "cells": [
  {
   "cell_type": "markdown",
   "id": "7ab6e5d8-f657-4f99-aebd-c28cc2e4d121",
   "metadata": {},
   "source": [
    "# 感知机\n",
    "\n",
    "感知机也称作“人工神经元”或“朴素感知机”。感知机接收多个输入信号，输出一个信号。"
   ]
  },
  {
   "cell_type": "markdown",
   "id": "7c9c2469-76b4-4c21-b60a-901d57869b3c",
   "metadata": {},
   "source": [
    "## 简单实现一个与门"
   ]
  },
  {
   "cell_type": "code",
   "execution_count": 1,
   "id": "f9034690-e0ec-4133-8a65-f19d29d94bbf",
   "metadata": {},
   "outputs": [],
   "source": [
    "def AND(x1, x2):\n",
    "    w1, w2, theta = 0.5, 0.5, 0.7\n",
    "    tmp = x1 * w1 + x2 * w2\n",
    "    if tmp <= theta:\n",
    "        return 0\n",
    "    else:\n",
    "        return 1"
   ]
  },
  {
   "cell_type": "code",
   "execution_count": 2,
   "id": "835531a1-8c72-441c-aba9-c94d0f2b99bf",
   "metadata": {},
   "outputs": [
    {
     "data": {
      "text/plain": [
       "1"
      ]
     },
     "execution_count": 2,
     "metadata": {},
     "output_type": "execute_result"
    }
   ],
   "source": [
    "AND(0, 0)\n",
    "AND(1, 0)\n",
    "AND(0, 1)\n",
    "AND(1, 1)"
   ]
  },
  {
   "cell_type": "markdown",
   "id": "87a6dab8-1595-405e-94da-691c43cf2a36",
   "metadata": {},
   "source": [
    "## 使用NumPy重新实现前面的与门"
   ]
  },
  {
   "cell_type": "code",
   "execution_count": 3,
   "id": "3c4df10f-ea6e-4e41-a1e9-596036a43592",
   "metadata": {},
   "outputs": [],
   "source": [
    "import numpy as np\n",
    "\n",
    "def AND(x1, x2):\n",
    "    x = np.array([x1, x2])    # 输入\n",
    "    w = np.array([0.5, 0.5])  # 权重\n",
    "    b = -0.7                  # 偏置，-theta\n",
    "    tmp = np.sum(w * x) + b\n",
    "    if tmp <= 0:\n",
    "        return 0\n",
    "    else:\n",
    "        return 1"
   ]
  },
  {
   "cell_type": "code",
   "execution_count": 4,
   "id": "96934059-df63-4d18-a6c9-c7e24e8bab78",
   "metadata": {},
   "outputs": [
    {
     "data": {
      "text/plain": [
       "1"
      ]
     },
     "execution_count": 4,
     "metadata": {},
     "output_type": "execute_result"
    }
   ],
   "source": [
    "AND(0, 0)\n",
    "AND(1, 0)\n",
    "AND(0, 1)\n",
    "AND(1, 1)"
   ]
  },
  {
   "cell_type": "markdown",
   "id": "268ff6b2-957d-4c07-861f-b4d3c5523511",
   "metadata": {},
   "source": [
    "## 与非门 和 或门\n",
    "\n",
    "仅权重和偏置与AND（与门）不同。"
   ]
  },
  {
   "cell_type": "code",
   "execution_count": 5,
   "id": "39a787b6-4af8-4c7f-b008-5d5cfbf98cc8",
   "metadata": {},
   "outputs": [],
   "source": [
    "def NAND(x1, x2):\n",
    "    x = np.array([x1, x2])      # 输入\n",
    "    w = np.array([-0.5, -0.5])  # 权重\n",
    "    b = 0.7                     # 偏置，-theta\n",
    "    tmp = np.sum(w * x) + b\n",
    "    if tmp <= 0:\n",
    "        return 0\n",
    "    else:\n",
    "        return 1"
   ]
  },
  {
   "cell_type": "code",
   "execution_count": 6,
   "id": "267e909f-59fb-4c02-899a-3569ec0db714",
   "metadata": {},
   "outputs": [],
   "source": [
    "def OR(x1, x2):\n",
    "    x = np.array([x1, x2])    # 输入\n",
    "    w = np.array([0.5, 0.5])  # 权重\n",
    "    b = -0.7                  # 偏置，-theta\n",
    "    tmp = np.sum(w * x) + b\n",
    "    if tmp <= 0:\n",
    "        return 0\n",
    "    else:\n",
    "        return 1"
   ]
  },
  {
   "cell_type": "markdown",
   "id": "761429af-e0ed-48cf-af81-80834e41ca60",
   "metadata": {},
   "source": [
    "## 异或门\n",
    "\n",
    "异或门需要用上面门组合来完成。"
   ]
  },
  {
   "cell_type": "code",
   "execution_count": 7,
   "id": "580041ca-eab2-4973-b9f7-c8dd8906a0ea",
   "metadata": {},
   "outputs": [],
   "source": [
    "def XOR(x1, x2):\n",
    "    s1 = NAND(x1, x2)\n",
    "    s2 = OR(x1, x2)\n",
    "    y = AND(s1, s2)\n",
    "    return y"
   ]
  },
  {
   "cell_type": "code",
   "execution_count": null,
   "id": "845bd5b7-8635-41aa-99f5-260531c13ece",
   "metadata": {},
   "outputs": [],
   "source": []
  }
 ],
 "metadata": {
  "kernelspec": {
   "display_name": "Python 3 (ipykernel)",
   "language": "python",
   "name": "python3"
  },
  "language_info": {
   "codemirror_mode": {
    "name": "ipython",
    "version": 3
   },
   "file_extension": ".py",
   "mimetype": "text/x-python",
   "name": "python",
   "nbconvert_exporter": "python",
   "pygments_lexer": "ipython3",
   "version": "3.11.2"
  }
 },
 "nbformat": 4,
 "nbformat_minor": 5
}
