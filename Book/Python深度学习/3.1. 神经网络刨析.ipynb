{
 "cells": [
  {
   "cell_type": "markdown",
   "id": "4df2047e-946a-47ac-9df9-8de0872aa0e5",
   "metadata": {},
   "source": [
    "# 3. 神经网络入门\n",
    "\n",
    "`P43(61/313)`"
   ]
  },
  {
   "cell_type": "markdown",
   "id": "730b1129-6aed-4ba6-af29-9c0606e472a8",
   "metadata": {},
   "source": [
    "## 3.1. 神经网络刨析\n",
    "\n",
    "神经网络最常见的三种使用场景：二分类问题、多分类问题和标量回归问题。  \n",
    "![](./assets/img/神经网络各组件之间的关系.png)"
   ]
  },
  {
   "cell_type": "markdown",
   "id": "bac76cff-b30c-47dc-bbaa-baad2844b74f",
   "metadata": {},
   "source": [
    "### 3.1.1. 层：深度学习的基础组件\n",
    "\n",
    "神经网络的基本数据结构是**层**。层是一个数据处理模块，将一个或多个输入张量转换为一个或多个输出张量。有些层是无状态的，但大多数的层是有状态的，即层的**权重**。权重是利用随机梯度下降学到的一个或多个张量，其中包含网络的**知识**。\n",
    "不同的张量格式与不同的数据处理类型需要用到不同的层。例如，简单的向量数据保存在\n",
    "形状为(samples, features) 的**2D**张量中，通常用**密集连接层**［**densely connected layer**，也叫**全连接层（fully connected layer）** 或**密集层（dense layer）**，对应于Keras 的Dense类］来处理。序列数据保存在形状为(samples, timesteps, features) 的**3D**张量中，通常用**循环层**（**recurrent layer**，比如Keras的LSTM层）来处理。图像数据保存在**4D**张量中，通常用**二维卷积层**（Keras的Conv2D）来处理。\n",
    "你可以将层看作深度学习的乐高积木，Keras等框架则将这种比喻具体化。在Keras中，构建深度学习模型就是将相互兼容的多个层拼接在一起，以建立有用的数据变换流程。这里**层兼容性**（**layer compatibility**）具体指的是每一层只接受特定形状的输入张量，并返回特定形状的输出张量。"
   ]
  },
  {
   "cell_type": "code",
   "execution_count": 1,
   "id": "b9612a81-40db-4d68-bbcc-b1b9a405c96b",
   "metadata": {},
   "outputs": [
    {
     "name": "stderr",
     "output_type": "stream",
     "text": [
      "2024-08-21 02:56:46.516278: I external/local_xla/xla/tsl/cuda/cudart_stub.cc:32] Could not find cuda drivers on your machine, GPU will not be used.\n",
      "2024-08-21 02:56:46.523233: I external/local_xla/xla/tsl/cuda/cudart_stub.cc:32] Could not find cuda drivers on your machine, GPU will not be used.\n",
      "2024-08-21 02:56:46.540724: E external/local_xla/xla/stream_executor/cuda/cuda_fft.cc:485] Unable to register cuFFT factory: Attempting to register factory for plugin cuFFT when one has already been registered\n",
      "2024-08-21 02:56:46.566523: E external/local_xla/xla/stream_executor/cuda/cuda_dnn.cc:8454] Unable to register cuDNN factory: Attempting to register factory for plugin cuDNN when one has already been registered\n",
      "2024-08-21 02:56:46.574339: E external/local_xla/xla/stream_executor/cuda/cuda_blas.cc:1452] Unable to register cuBLAS factory: Attempting to register factory for plugin cuBLAS when one has already been registered\n",
      "2024-08-21 02:56:46.595869: I tensorflow/core/platform/cpu_feature_guard.cc:210] This TensorFlow binary is optimized to use available CPU instructions in performance-critical operations.\n",
      "To enable the following instructions: AVX2 FMA, in other operations, rebuild TensorFlow with the appropriate compiler flags.\n",
      "2024-08-21 02:56:47.864585: W tensorflow/compiler/tf2tensorrt/utils/py_utils.cc:38] TF-TRT Warning: Could not find TensorRT\n",
      "/root/GithubProjects/HelloAI/Book/Python深度学习/venv/lib/python3.11/site-packages/keras/src/layers/core/dense.py:87: UserWarning: Do not pass an `input_shape`/`input_dim` argument to a layer. When using Sequential models, prefer using an `Input(shape)` object as the first layer in the model instead.\n",
      "  super().__init__(activity_regularizer=activity_regularizer, **kwargs)\n"
     ]
    }
   ],
   "source": [
    "from keras import layers\n",
    "layer = layers.Dense(32, input_shape=(784,))  # 有32个输出单元的密集层"
   ]
  },
  {
   "cell_type": "code",
   "execution_count": null,
   "id": "9f35c4cb-a00c-4560-b923-d4cc6e179b06",
   "metadata": {},
   "outputs": [],
   "source": []
  }
 ],
 "metadata": {
  "kernelspec": {
   "display_name": "Python 3 (ipykernel)",
   "language": "python",
   "name": "python3"
  },
  "language_info": {
   "codemirror_mode": {
    "name": "ipython",
    "version": 3
   },
   "file_extension": ".py",
   "mimetype": "text/x-python",
   "name": "python",
   "nbconvert_exporter": "python",
   "pygments_lexer": "ipython3",
   "version": "3.11.2"
  }
 },
 "nbformat": 4,
 "nbformat_minor": 5
}
