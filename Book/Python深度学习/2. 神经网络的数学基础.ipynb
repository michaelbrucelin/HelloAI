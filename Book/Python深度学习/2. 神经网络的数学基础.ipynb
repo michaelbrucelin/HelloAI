{
 "cells": [
  {
   "cell_type": "markdown",
   "id": "8de4ab89-078e-4e0b-9b81-05c71aa6cff0",
   "metadata": {},
   "source": [
    "# 2. 神经网络的数学基础"
   ]
  },
  {
   "cell_type": "code",
   "execution_count": null,
   "id": "7caeaff2-eef6-4a6a-872e-b35b3164c89e",
   "metadata": {},
   "outputs": [],
   "source": []
  }
 ],
 "metadata": {
  "kernelspec": {
   "display_name": "Python 3 (ipykernel)",
   "language": "python",
   "name": "python3"
  },
  "language_info": {
   "codemirror_mode": {
    "name": "ipython",
    "version": 3
   },
   "file_extension": ".py",
   "mimetype": "text/x-python",
   "name": "python",
   "nbconvert_exporter": "python",
   "pygments_lexer": "ipython3",
   "version": "3.11.2"
  }
 },
 "nbformat": 4,
 "nbformat_minor": 5
}
