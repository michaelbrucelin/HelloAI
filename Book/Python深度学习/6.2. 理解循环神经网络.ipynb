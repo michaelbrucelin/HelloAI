{
 "cells": [
  {
   "cell_type": "markdown",
   "id": "f3798e57-e13f-427d-bd1a-35aebd4999ca",
   "metadata": {},
   "source": [
    "# 6. 深度学习用于文本和序列"
   ]
  },
  {
   "cell_type": "markdown",
   "id": "1640cd8c-051a-424f-9ab4-6ceb5f154734",
   "metadata": {},
   "source": [
    "## 6.2. 理解循环神经网络"
   ]
  },
  {
   "cell_type": "code",
   "execution_count": 1,
   "id": "dbffaafc-6c5d-433c-b441-a03e7fdc7e3f",
   "metadata": {},
   "outputs": [],
   "source": [
    "# 简单RNN的Numpy实现\n",
    "import numpy as np\n",
    "\n",
    "timesteps = 100\n",
    "input_features = 32\n",
    "output_features = 64\n",
    "\n",
    "inputs = np.random.random((timesteps, input_features))\n",
    "\n",
    "state_t = np.zeros((output_features,))\n",
    "\n",
    "W = np.random.random((output_features, input_features))\n",
    "U = np.random.random((output_features, output_features))\n",
    "b = np.random.random((output_features,))\n",
    "\n",
    "successive_outputs = []\n",
    "for input_t in inputs:\n",
    "    output_t = np.tanh(np.dot(W, input_t) + np.dot(U, state_t) + b)\n",
    "    successive_outputs.append(output_t)\n",
    "    state_t = output_t\n",
    "\n",
    "final_output_sequence = np.stack(successive_outputs, axis=0)"
   ]
  },
  {
   "cell_type": "code",
   "execution_count": null,
   "id": "832dd301-86dc-441a-bb88-c66d4ca46911",
   "metadata": {},
   "outputs": [],
   "source": []
  }
 ],
 "metadata": {
  "kernelspec": {
   "display_name": "Python 3 (ipykernel)",
   "language": "python",
   "name": "python3"
  },
  "language_info": {
   "codemirror_mode": {
    "name": "ipython",
    "version": 3
   },
   "file_extension": ".py",
   "mimetype": "text/x-python",
   "name": "python",
   "nbconvert_exporter": "python",
   "pygments_lexer": "ipython3",
   "version": "3.11.2"
  }
 },
 "nbformat": 4,
 "nbformat_minor": 5
}
