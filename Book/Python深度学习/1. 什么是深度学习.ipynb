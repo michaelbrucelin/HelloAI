{
 "cells": [
  {
   "cell_type": "markdown",
   "id": "7e4696a3-c7c7-4e21-b74f-a9270af32ccc",
   "metadata": {},
   "source": [
    "# 1. 什么是深度学习"
   ]
  },
  {
   "cell_type": "markdown",
   "id": "4af24706-16d5-4ac3-bc49-4a022fb3aef0",
   "metadata": {},
   "source": [
    "![](./assets/img/人工智能、机器学习与深度学习.png)\n",
    "![](./assets/img/机器学习，一种新的编程范式.png)  \n",
    "机器学习系统是**训练出来的**，而不是明确地用程序编写出来的。将与某个任务相关的许多示例输入机器学习系统，它会在这些示例中找到统计结构，从而最终找到规则将任务自动化。\n",
    "\n",
    "深度学习不一定总是解决问题的正确工具：有时没有足够的数据，深度学习不适用；有时用其他算法可以更好地解决问题。如果你第一次接触的机器学习就是深度学习，那你可能会发现手中握着一把深度学习“锤子”，而所有机器学习问题看起来都像是“钉子”。为了避免陷入这个误区，唯一的方法就是熟悉其他机器学习方法并在适当的时候进行实践。"
   ]
  },
  {
   "cell_type": "code",
   "execution_count": null,
   "id": "07c1a024-2787-4671-a4e0-9daa4266430c",
   "metadata": {},
   "outputs": [],
   "source": []
  }
 ],
 "metadata": {
  "kernelspec": {
   "display_name": "Python 3 (ipykernel)",
   "language": "python",
   "name": "python3"
  },
  "language_info": {
   "codemirror_mode": {
    "name": "ipython",
    "version": 3
   },
   "file_extension": ".py",
   "mimetype": "text/x-python",
   "name": "python",
   "nbconvert_exporter": "python",
   "pygments_lexer": "ipython3",
   "version": "3.11.2"
  }
 },
 "nbformat": 4,
 "nbformat_minor": 5
}
