{
 "cells": [
  {
   "cell_type": "markdown",
   "id": "cd478ff7-f267-48ae-a93d-16a9055a43d1",
   "metadata": {},
   "source": [
    "# 5. 深度学习用于计算机视觉"
   ]
  },
  {
   "cell_type": "markdown",
   "id": "d73fcc25-e436-4190-a5b6-1609d1548d50",
   "metadata": {},
   "source": [
    "## 5.4. 卷积神经网络的可视化"
   ]
  },
  {
   "cell_type": "markdown",
   "id": "49a416f1-f984-482b-ae2b-e7ecc6736992",
   "metadata": {},
   "source": [
    "### 5.4.1. 可视化中间激活"
   ]
  },
  {
   "cell_type": "code",
   "execution_count": null,
   "id": "b7011b2a-519a-4a7e-8867-fc1cc98c8b2e",
   "metadata": {},
   "outputs": [],
   "source": []
  }
 ],
 "metadata": {
  "kernelspec": {
   "display_name": "Python 3 (ipykernel)",
   "language": "python",
   "name": "python3"
  },
  "language_info": {
   "codemirror_mode": {
    "name": "ipython",
    "version": 3
   },
   "file_extension": ".py",
   "mimetype": "text/x-python",
   "name": "python",
   "nbconvert_exporter": "python",
   "pygments_lexer": "ipython3",
   "version": "3.11.2"
  }
 },
 "nbformat": 4,
 "nbformat_minor": 5
}
