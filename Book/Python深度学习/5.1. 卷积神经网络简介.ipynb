{
 "cells": [
  {
   "cell_type": "markdown",
   "id": "0bd81acb-6683-4371-9b14-206bdd9d16ba",
   "metadata": {},
   "source": [
    "# 5. 深度学习用于计算机视觉"
   ]
  },
  {
   "cell_type": "markdown",
   "id": "da8a54ee-c75f-4bf2-a314-70ae2dca0d26",
   "metadata": {},
   "source": [
    "## 5.1. 卷积神经网络简介"
   ]
  },
  {
   "cell_type": "code",
   "execution_count": null,
   "id": "4717bddb-ef29-4413-b671-f7d3aad59979",
   "metadata": {},
   "outputs": [],
   "source": []
  }
 ],
 "metadata": {
  "kernelspec": {
   "display_name": "Python 3 (ipykernel)",
   "language": "python",
   "name": "python3"
  },
  "language_info": {
   "codemirror_mode": {
    "name": "ipython",
    "version": 3
   },
   "file_extension": ".py",
   "mimetype": "text/x-python",
   "name": "python",
   "nbconvert_exporter": "python",
   "pygments_lexer": "ipython3",
   "version": "3.11.2"
  }
 },
 "nbformat": 4,
 "nbformat_minor": 5
}
