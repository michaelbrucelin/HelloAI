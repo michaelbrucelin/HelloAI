{
 "cells": [
  {
   "cell_type": "markdown",
   "id": "0c38eb94-b917-474e-8774-f77799ec5c7f",
   "metadata": {},
   "source": [
    "# 5. 深度学习用于计算机视觉"
   ]
  },
  {
   "cell_type": "markdown",
   "id": "62e6d1e9-cd97-4a87-a992-c3f4f38d5e7c",
   "metadata": {},
   "source": [
    "## 5.2. 在小型数据集上从头开始训练一个卷积神经网络"
   ]
  },
  {
   "cell_type": "code",
   "execution_count": null,
   "id": "945463ea-60bd-44ae-893f-530232911a34",
   "metadata": {},
   "outputs": [],
   "source": []
  }
 ],
 "metadata": {
  "kernelspec": {
   "display_name": "Python 3 (ipykernel)",
   "language": "python",
   "name": "python3"
  },
  "language_info": {
   "codemirror_mode": {
    "name": "ipython",
    "version": 3
   },
   "file_extension": ".py",
   "mimetype": "text/x-python",
   "name": "python",
   "nbconvert_exporter": "python",
   "pygments_lexer": "ipython3",
   "version": "3.11.2"
  }
 },
 "nbformat": 4,
 "nbformat_minor": 5
}
